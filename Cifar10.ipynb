{
 "cells": [
  {
   "cell_type": "code",
   "execution_count": 3,
   "id": "4adfbd23",
   "metadata": {},
   "outputs": [
    {
     "name": "stderr",
     "output_type": "stream",
     "text": [
      "2022-12-11 00:48:38.353709: I tensorflow/core/platform/cpu_feature_guard.cc:193] This TensorFlow binary is optimized with oneAPI Deep Neural Network Library (oneDNN) to use the following CPU instructions in performance-critical operations:  AVX2 AVX512F AVX512_VNNI FMA\n",
      "To enable them in other operations, rebuild TensorFlow with the appropriate compiler flags.\n",
      "2022-12-11 00:48:38.453382: I tensorflow/core/util/port.cc:104] oneDNN custom operations are on. You may see slightly different numerical results due to floating-point round-off errors from different computation orders. To turn them off, set the environment variable `TF_ENABLE_ONEDNN_OPTS=0`.\n",
      "2022-12-11 00:48:38.455965: W tensorflow/compiler/xla/stream_executor/platform/default/dso_loader.cc:64] Could not load dynamic library 'libcudart.so.11.0'; dlerror: libcudart.so.11.0: cannot open shared object file: No such file or directory; LD_LIBRARY_PATH: /opt/ros/galactic/opt/yaml_cpp_vendor/lib:/opt/ros/galactic/opt/rviz_ogre_vendor/lib:/opt/ros/galactic/lib/x86_64-linux-gnu:/opt/ros/galactic/lib\n",
      "2022-12-11 00:48:38.455974: I tensorflow/compiler/xla/stream_executor/cuda/cudart_stub.cc:29] Ignore above cudart dlerror if you do not have a GPU set up on your machine.\n",
      "2022-12-11 00:48:38.981238: W tensorflow/compiler/xla/stream_executor/platform/default/dso_loader.cc:64] Could not load dynamic library 'libnvinfer.so.7'; dlerror: libnvinfer.so.7: cannot open shared object file: No such file or directory; LD_LIBRARY_PATH: /opt/ros/galactic/opt/yaml_cpp_vendor/lib:/opt/ros/galactic/opt/rviz_ogre_vendor/lib:/opt/ros/galactic/lib/x86_64-linux-gnu:/opt/ros/galactic/lib\n",
      "2022-12-11 00:48:38.981287: W tensorflow/compiler/xla/stream_executor/platform/default/dso_loader.cc:64] Could not load dynamic library 'libnvinfer_plugin.so.7'; dlerror: libnvinfer_plugin.so.7: cannot open shared object file: No such file or directory; LD_LIBRARY_PATH: /opt/ros/galactic/opt/yaml_cpp_vendor/lib:/opt/ros/galactic/opt/rviz_ogre_vendor/lib:/opt/ros/galactic/lib/x86_64-linux-gnu:/opt/ros/galactic/lib\n",
      "2022-12-11 00:48:38.981291: W tensorflow/compiler/tf2tensorrt/utils/py_utils.cc:38] TF-TRT Warning: Cannot dlopen some TensorRT libraries. If you would like to use Nvidia GPU with TensorRT, please make sure the missing libraries mentioned above are installed properly.\n"
     ]
    }
   ],
   "source": [
    "import tensorflow as tf\n",
    "import numpy as np\n",
    "import tensorflow.keras as k"
   ]
  },
  {
   "cell_type": "code",
   "execution_count": 4,
   "id": "118510bc",
   "metadata": {},
   "outputs": [],
   "source": [
    "(xtrain, ytrain), (xtest, ytest) = k.datasets.cifar10.load_data()"
   ]
  },
  {
   "cell_type": "code",
   "execution_count": 5,
   "id": "a935d83e",
   "metadata": {
    "scrolled": true
   },
   "outputs": [
    {
     "name": "stdout",
     "output_type": "stream",
     "text": [
      "xtrain: (50000, 32, 32, 3)\n",
      "ytrain: (50000, 1)\n",
      "xtest: (10000, 32, 32, 3)\n",
      "ytest: (10000, 1)\n"
     ]
    }
   ],
   "source": [
    "print(f\"xtrain: {xtrain.shape}\")\n",
    "print(f\"ytrain: {ytrain.shape}\")\n",
    "print(f\"xtest: {xtest.shape}\")\n",
    "print(f\"ytest: {ytest.shape}\")"
   ]
  },
  {
   "cell_type": "code",
   "execution_count": 6,
   "id": "0c31d4f2",
   "metadata": {},
   "outputs": [
    {
     "name": "stderr",
     "output_type": "stream",
     "text": [
      "2022-12-11 00:48:40.316888: W tensorflow/compiler/xla/stream_executor/platform/default/dso_loader.cc:64] Could not load dynamic library 'libcuda.so.1'; dlerror: libcuda.so.1: cannot open shared object file: No such file or directory; LD_LIBRARY_PATH: /opt/ros/galactic/opt/yaml_cpp_vendor/lib:/opt/ros/galactic/opt/rviz_ogre_vendor/lib:/opt/ros/galactic/lib/x86_64-linux-gnu:/opt/ros/galactic/lib\n",
      "2022-12-11 00:48:40.316909: W tensorflow/compiler/xla/stream_executor/cuda/cuda_driver.cc:265] failed call to cuInit: UNKNOWN ERROR (303)\n",
      "2022-12-11 00:48:40.316926: I tensorflow/compiler/xla/stream_executor/cuda/cuda_diagnostics.cc:156] kernel driver does not appear to be running on this host (server1.example.com): /proc/driver/nvidia/version does not exist\n",
      "2022-12-11 00:48:40.317237: I tensorflow/core/platform/cpu_feature_guard.cc:193] This TensorFlow binary is optimized with oneAPI Deep Neural Network Library (oneDNN) to use the following CPU instructions in performance-critical operations:  AVX2 AVX512F AVX512_VNNI FMA\n",
      "To enable them in other operations, rebuild TensorFlow with the appropriate compiler flags.\n"
     ]
    }
   ],
   "source": [
    "xtrain = tf.convert_to_tensor(xtrain/255., dtype=tf.float32)\n",
    "xtest = tf.convert_to_tensor(xtest/255., dtype=tf.float32)\n",
    "ytrain = k.utils.to_categorical(ytrain)\n",
    "ytest = k.utils.to_categorical(ytest)"
   ]
  },
  {
   "cell_type": "code",
   "execution_count": 18,
   "id": "b8a0e7dd",
   "metadata": {},
   "outputs": [],
   "source": [
    "class Model(k.Model):\n",
    "  def __init__(self):\n",
    "    super(Model, self).__init__()\n",
    "    self.conv0 = k.layers.Conv2D(filters=32, kernel_size=3, activation=\"relu\")\n",
    "    self.maxp0 = k.layers.MaxPooling2D()\n",
    "    self.bn0 = k.layers.BatchNormalization()\n",
    "    self.conv1 = k.layers.Conv2D(filters=64, kernel_size=3, activation=\"relu\")\n",
    "    self.maxp1 = k.layers.MaxPooling2D()\n",
    "    self.bn1 = k.layers.BatchNormalization()\n",
    "    self.conv2 = k.layers.Conv2D(filters=128, kernel_size=3, activation=\"relu\")\n",
    "    self.maxp2 = k.layers.MaxPooling2D()\n",
    "    self.bn2 = k.layers.BatchNormalization()\n",
    "    self.globalp = k.layers.GlobalAveragePooling2D()\n",
    "#     self.flatten = k.layers.Flatten()\n",
    "    self.dropout = k.layers.Dropout(rate=0.5)\n",
    "    self.dense3 = k.layers.Dense(units=512, activation=\"relu\")\n",
    "    self.dense0 = k.layers.Dense(units=256, activation=\"relu\")\n",
    "    self.dense1 = k.layers.Dense(units=64, activation=\"relu\")\n",
    "    self.dense2 = k.layers.Dense(units=10, activation=\"softmax\")\n",
    "\n",
    "  def call(self, inputs=k.Input(shape=(32, 32, 3)), training=False):\n",
    "    output = self.conv0(inputs)\n",
    "    output = self.maxp0(output)\n",
    "    output = self.bn0(output)\n",
    "    output = self.conv1(output)\n",
    "    output = self.maxp1(output)\n",
    "    output = self.bn1(output)\n",
    "    output = self.conv2(output)\n",
    "    output = self.maxp2(output)\n",
    "    output = self.bn2(output)\n",
    "    output = self.globalp(output)\n",
    "#     output = self.flatten(output)\n",
    "    output = self.dropout(output, training)\n",
    "    output = self.dense3(output)\n",
    "    output = self.dense0(output)\n",
    "    output = self.dense1(output)\n",
    "    output = self.dense2(output)\n",
    "    return output"
   ]
  },
  {
   "cell_type": "code",
   "execution_count": 19,
   "id": "da234dfe",
   "metadata": {},
   "outputs": [],
   "source": [
    "mdl = Model()\n",
    "mdl.compile(optimizer=\"Adam\",\n",
    "            loss=\"categorical_crossentropy\",\n",
    "            metrics=[\"accuracy\"])"
   ]
  },
  {
   "cell_type": "code",
   "execution_count": 21,
   "id": "a67aa723",
   "metadata": {},
   "outputs": [
    {
     "name": "stdout",
     "output_type": "stream",
     "text": [
      "Epoch 1/100\n",
      "1000/1000 [==============================] - 9s 8ms/step - loss: 1.5813 - accuracy: 0.4159 - val_loss: 1.5172 - val_accuracy: 0.4428 - lr: 0.0010\n",
      "Epoch 2/100\n",
      "1000/1000 [==============================] - 8s 8ms/step - loss: 1.2794 - accuracy: 0.5421 - val_loss: 1.5187 - val_accuracy: 0.4770 - lr: 0.0010\n",
      "Epoch 3/100\n",
      "1000/1000 [==============================] - 8s 8ms/step - loss: 1.1706 - accuracy: 0.5826 - val_loss: 1.2382 - val_accuracy: 0.5682 - lr: 0.0010\n",
      "Epoch 4/100\n",
      "1000/1000 [==============================] - 9s 9ms/step - loss: 1.0872 - accuracy: 0.6164 - val_loss: 1.0799 - val_accuracy: 0.6110 - lr: 0.0010\n",
      "Epoch 5/100\n",
      "1000/1000 [==============================] - 10s 10ms/step - loss: 1.0195 - accuracy: 0.6406 - val_loss: 1.0598 - val_accuracy: 0.6262 - lr: 0.0010\n",
      "Epoch 6/100\n",
      "1000/1000 [==============================] - 12s 12ms/step - loss: 0.9850 - accuracy: 0.6519 - val_loss: 0.9460 - val_accuracy: 0.6672 - lr: 0.0010\n",
      "Epoch 7/100\n",
      "1000/1000 [==============================] - 12s 12ms/step - loss: 0.9415 - accuracy: 0.6735 - val_loss: 1.0517 - val_accuracy: 0.6292 - lr: 0.0010\n",
      "Epoch 8/100\n",
      "1000/1000 [==============================] - 12s 12ms/step - loss: 0.8986 - accuracy: 0.6852 - val_loss: 1.0501 - val_accuracy: 0.6520 - lr: 0.0010\n",
      "Epoch 9/100\n",
      "1000/1000 [==============================] - 10s 10ms/step - loss: 0.8779 - accuracy: 0.6952 - val_loss: 0.8239 - val_accuracy: 0.7110 - lr: 0.0010\n",
      "Epoch 10/100\n",
      "1000/1000 [==============================] - 10s 10ms/step - loss: 0.8489 - accuracy: 0.7057 - val_loss: 0.9152 - val_accuracy: 0.6764 - lr: 0.0010\n",
      "Epoch 11/100\n",
      "1000/1000 [==============================] - 10s 10ms/step - loss: 0.8216 - accuracy: 0.7164 - val_loss: 1.0355 - val_accuracy: 0.6360 - lr: 0.0010\n",
      "Epoch 12/100\n",
      "1000/1000 [==============================] - 10s 10ms/step - loss: 0.8045 - accuracy: 0.7224 - val_loss: 0.7755 - val_accuracy: 0.7288 - lr: 0.0010\n",
      "Epoch 13/100\n",
      "1000/1000 [==============================] - 10s 10ms/step - loss: 0.7807 - accuracy: 0.7334 - val_loss: 0.7897 - val_accuracy: 0.7212 - lr: 0.0010\n",
      "Epoch 14/100\n",
      "1000/1000 [==============================] - 10s 10ms/step - loss: 0.7728 - accuracy: 0.7317 - val_loss: 0.7991 - val_accuracy: 0.7240 - lr: 0.0010\n",
      "Epoch 15/100\n",
      "1000/1000 [==============================] - 10s 10ms/step - loss: 0.7525 - accuracy: 0.7389 - val_loss: 0.7999 - val_accuracy: 0.7238 - lr: 0.0010\n",
      "Epoch 16/100\n",
      "1000/1000 [==============================] - 10s 10ms/step - loss: 0.6714 - accuracy: 0.7679 - val_loss: 0.6484 - val_accuracy: 0.7748 - lr: 1.0000e-04\n",
      "Epoch 17/100\n",
      "1000/1000 [==============================] - 10s 10ms/step - loss: 0.6327 - accuracy: 0.7785 - val_loss: 0.6411 - val_accuracy: 0.7790 - lr: 1.0000e-04\n",
      "Epoch 18/100\n",
      "1000/1000 [==============================] - 10s 10ms/step - loss: 0.6190 - accuracy: 0.7869 - val_loss: 0.6460 - val_accuracy: 0.7766 - lr: 1.0000e-04\n",
      "Epoch 19/100\n",
      "1000/1000 [==============================] - 10s 10ms/step - loss: 0.5973 - accuracy: 0.7933 - val_loss: 0.6379 - val_accuracy: 0.7816 - lr: 1.0000e-04\n",
      "Epoch 20/100\n",
      "1000/1000 [==============================] - 10s 10ms/step - loss: 0.6091 - accuracy: 0.7874 - val_loss: 0.6353 - val_accuracy: 0.7806 - lr: 1.0000e-04\n",
      "Epoch 21/100\n",
      "1000/1000 [==============================] - 10s 10ms/step - loss: 0.5877 - accuracy: 0.7943 - val_loss: 0.6330 - val_accuracy: 0.7816 - lr: 1.0000e-04\n",
      "Epoch 22/100\n",
      "1000/1000 [==============================] - 10s 10ms/step - loss: 0.5845 - accuracy: 0.7969 - val_loss: 0.6323 - val_accuracy: 0.7838 - lr: 1.0000e-04\n",
      "Epoch 23/100\n",
      "1000/1000 [==============================] - 11s 11ms/step - loss: 0.5846 - accuracy: 0.7994 - val_loss: 0.6291 - val_accuracy: 0.7866 - lr: 1.0000e-04\n",
      "Epoch 24/100\n",
      "1000/1000 [==============================] - 10s 10ms/step - loss: 0.5717 - accuracy: 0.8019 - val_loss: 0.6266 - val_accuracy: 0.7876 - lr: 1.0000e-04\n",
      "Epoch 25/100\n",
      "1000/1000 [==============================] - 10s 10ms/step - loss: 0.5636 - accuracy: 0.8031 - val_loss: 0.6292 - val_accuracy: 0.7860 - lr: 1.0000e-04\n",
      "Epoch 26/100\n",
      "1000/1000 [==============================] - 10s 10ms/step - loss: 0.5583 - accuracy: 0.8041 - val_loss: 0.6388 - val_accuracy: 0.7876 - lr: 1.0000e-04\n",
      "Epoch 27/100\n",
      "1000/1000 [==============================] - 11s 11ms/step - loss: 0.5619 - accuracy: 0.8056 - val_loss: 0.6309 - val_accuracy: 0.7856 - lr: 1.0000e-04\n",
      "Epoch 28/100\n",
      "1000/1000 [==============================] - 10s 10ms/step - loss: 0.5526 - accuracy: 0.8075 - val_loss: 0.6209 - val_accuracy: 0.7872 - lr: 1.0000e-05\n",
      "Epoch 29/100\n",
      "1000/1000 [==============================] - 10s 10ms/step - loss: 0.5445 - accuracy: 0.8093 - val_loss: 0.6202 - val_accuracy: 0.7866 - lr: 1.0000e-05\n",
      "Epoch 30/100\n",
      "1000/1000 [==============================] - 10s 10ms/step - loss: 0.5329 - accuracy: 0.8132 - val_loss: 0.6212 - val_accuracy: 0.7882 - lr: 1.0000e-05\n",
      "Epoch 31/100\n",
      "1000/1000 [==============================] - 10s 10ms/step - loss: 0.5454 - accuracy: 0.8100 - val_loss: 0.6220 - val_accuracy: 0.7848 - lr: 1.0000e-05\n",
      "Epoch 32/100\n",
      "1000/1000 [==============================] - 11s 11ms/step - loss: 0.5446 - accuracy: 0.8109 - val_loss: 0.6212 - val_accuracy: 0.7876 - lr: 1.0000e-05\n",
      "Epoch 33/100\n",
      "1000/1000 [==============================] - 10s 10ms/step - loss: 0.5381 - accuracy: 0.8133 - val_loss: 0.6200 - val_accuracy: 0.7862 - lr: 1.0000e-06\n",
      "Epoch 34/100\n",
      "1000/1000 [==============================] - 11s 11ms/step - loss: 0.5437 - accuracy: 0.8092 - val_loss: 0.6196 - val_accuracy: 0.7892 - lr: 1.0000e-06\n",
      "Epoch 35/100\n",
      "1000/1000 [==============================] - 10s 10ms/step - loss: 0.5366 - accuracy: 0.8135 - val_loss: 0.6193 - val_accuracy: 0.7884 - lr: 1.0000e-06\n",
      "Epoch 36/100\n",
      "1000/1000 [==============================] - 10s 10ms/step - loss: 0.5427 - accuracy: 0.8099 - val_loss: 0.6213 - val_accuracy: 0.7858 - lr: 1.0000e-06\n",
      "Epoch 37/100\n",
      "1000/1000 [==============================] - 10s 10ms/step - loss: 0.5437 - accuracy: 0.8108 - val_loss: 0.6206 - val_accuracy: 0.7862 - lr: 1.0000e-06\n",
      "Epoch 38/100\n",
      "1000/1000 [==============================] - 10s 10ms/step - loss: 0.5374 - accuracy: 0.8116 - val_loss: 0.6212 - val_accuracy: 0.7868 - lr: 1.0000e-06\n",
      "Epoch 39/100\n",
      "1000/1000 [==============================] - 10s 10ms/step - loss: 0.5401 - accuracy: 0.8131 - val_loss: 0.6206 - val_accuracy: 0.7870 - lr: 1.0000e-07\n",
      "Epoch 40/100\n",
      "1000/1000 [==============================] - 11s 11ms/step - loss: 0.5413 - accuracy: 0.8104 - val_loss: 0.6203 - val_accuracy: 0.7880 - lr: 1.0000e-07\n"
     ]
    }
   ],
   "source": [
    "history = mdl.fit(xtrain,\n",
    "                  ytrain,\n",
    "                  epochs=100,\n",
    "                  callbacks=[k.callbacks.EarlyStopping(monitor=\"val_loss\",\n",
    "                                                       patience=5,\n",
    "                                                       restore_best_weights=True),\n",
    "                             k.callbacks.ReduceLROnPlateau(monitor=\"val_loss\",\n",
    "                                                           patience=3)],\n",
    "                  validation_split=0.1, batch_size=32, shuffle=True, steps_per_epoch=1000)"
   ]
  },
  {
   "cell_type": "code",
   "execution_count": 22,
   "id": "61fc1397",
   "metadata": {},
   "outputs": [
    {
     "data": {
      "image/png": "[encoded data removed]",
      "text/plain": [
       "<Figure size 640x480 with 1 Axes>"
      ]
     },
     "metadata": {},
     "output_type": "display_data"
    }
   ],
   "source": [
    "import matplotlib.pyplot as plt\n",
    "plt.plot(history.history[\"loss\"])\n",
    "plt.plot(history.history[\"val_loss\"])\n",
    "plt.legend([\"loss\", \"val_loss\"])\n",
    "plt.xlabel(\"epochs\")\n",
    "plt.title(\"Training process\")\n",
    "plt.show()"
   ]
  },
  {
   "cell_type": "code",
   "execution_count": 23,
   "id": "34e84676",
   "metadata": {},
   "outputs": [
    {
     "name": "stdout",
     "output_type": "stream",
     "text": [
      "Test accuracy: 78.22999954223633\n",
      "Test loss: 0.6478199362754822\n"
     ]
    }
   ],
   "source": [
    "results = mdl.evaluate(xtest, ytest, verbose=0)\n",
    "print(f\"Test accuracy: {results[1]*100}\")\n",
    "print(f\"Test loss: {results[0]}\")"
   ]
  },
  {
   "cell_type": "code",
   "execution_count": null,
   "id": "45df1766",
   "metadata": {},
   "outputs": [],
   "source": []
  }
 ],
 "metadata": {
  "kernelspec": {
   "display_name": "Python 3 (ipykernel)",
   "language": "python",
   "name": "python3"
  },
  "language_info": {
   "codemirror_mode": {
    "name": "ipython",
    "version": 3
   },
   "file_extension": ".py",
   "mimetype": "text/x-python",
   "name": "python",
   "nbconvert_exporter": "python",
   "pygments_lexer": "ipython3",
   "version": "3.8.10"
  }
 },
 "nbformat": 4,
 "nbformat_minor": 5
}
